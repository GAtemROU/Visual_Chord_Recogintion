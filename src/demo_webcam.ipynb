{
 "cells": [
  {
   "cell_type": "code",
   "execution_count": 4,
   "id": "07c4f375",
   "metadata": {},
   "outputs": [],
   "source": [
    "import cv2\n",
    "import torch\n",
    "import torchvision.transforms as transforms\n",
    "from cnn import main_model\n",
    "import numpy as np"
   ]
  },
  {
   "cell_type": "code",
   "execution_count": 5,
   "id": "7fe72d40",
   "metadata": {},
   "outputs": [
    {
     "name": "stdout",
     "output_type": "stream",
     "text": [
      "cuda\n"
     ]
    }
   ],
   "source": [
    "model = torch.load('bestmodel.pth')\n",
    "device = torch.device('cuda' if torch.cuda.is_available() else 'cpu')\n",
    "print(device)\n",
    "model.to(device)\n",
    "model.eval()\n",
    "transform = transforms.Compose([\n",
    "    transforms.ToTensor() \n",
    "])\n"
   ]
  },
  {
   "cell_type": "code",
   "execution_count": null,
   "id": "8d7de7da",
   "metadata": {},
   "outputs": [],
   "source": [
    "cap = cv2.VideoCapture(0)\n",
    "\n",
    "cap.set(cv2.CAP_PROP_FRAME_WIDTH, 960)\n",
    "cap.set(cv2.CAP_PROP_FRAME_HEIGHT, 1280)\n",
    "\n",
    "font = cv2.FONT_HERSHEY_SIMPLEX\n",
    "fontScale = 0.5\n",
    "color = (255, 0, 0)\n",
    "thickness = 2\n",
    "labels = ['A', 'B', 'C', 'D', 'E', 'F', 'G']\n",
    "\n",
    "while True:\n",
    "    ret, img = cap.read()\n",
    "    image = cv2.resize(img, (80, 80))\n",
    "#     image = cv2.flip(image, 1)\n",
    "    image = transform(image)\n",
    "    image = image.to(device)\n",
    "    results = model(image.unsqueeze(0))\n",
    "    results = results.cpu().detach().numpy().squeeze()\n",
    "    sorted_results = sorted(results, reverse=True)\n",
    "    for i, res in enumerate(sorted_results):\n",
    "        cv2.putText(img, f'{labels[np.where(results==res)[0][0]]} --- {\"{:.2f}\".format(res)}', [10, 10+20*i], font, fontScale, color, thickness)\n",
    "    cv2.imshow('Webcam', img)\n",
    "\n",
    "    if cv2.waitKey(1) == ord('q'):\n",
    "        break\n",
    "\n",
    "cap.release()\n",
    "cv2.destroyAllWindows()"
   ]
  }
 ],
 "metadata": {
  "kernelspec": {
   "display_name": "Python 3 (ipykernel)",
   "language": "python",
   "name": "python3"
  },
  "language_info": {
   "codemirror_mode": {
    "name": "ipython",
    "version": 3
   },
   "file_extension": ".py",
   "mimetype": "text/x-python",
   "name": "python",
   "nbconvert_exporter": "python",
   "pygments_lexer": "ipython3",
   "version": "3.11.4"
  }
 },
 "nbformat": 4,
 "nbformat_minor": 5
}
