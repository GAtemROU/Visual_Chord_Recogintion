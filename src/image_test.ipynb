{
 "cells": [
  {
   "cell_type": "code",
   "execution_count": 6,
   "id": "45281684",
   "metadata": {},
   "outputs": [],
   "source": [
    "from yolo.yolo import YOLO\n",
    "import cv2"
   ]
  },
  {
   "cell_type": "code",
   "execution_count": 7,
   "id": "27d5051b",
   "metadata": {},
   "outputs": [],
   "source": [
    "yolo = YOLO('yolo/models/cross-hands-yolov4-tiny.cfg', 'yolo/models/cross-hands-yolov4-tiny.weights', ['hand'])"
   ]
  },
  {
   "cell_type": "code",
   "execution_count": 8,
   "id": "3e608e60",
   "metadata": {},
   "outputs": [],
   "source": [
    "img = cv2.imread('yolo/images/andy-falconer-EP7vGS2r9CU-unsplash.jpg')"
   ]
  },
  {
   "cell_type": "code",
   "execution_count": 9,
   "id": "e65beba0",
   "metadata": {},
   "outputs": [
    {
     "name": "stdout",
     "output_type": "stream",
     "text": [
      "(825, 640, 3)\n"
     ]
    }
   ],
   "source": [
    "print(img.shape)"
   ]
  },
  {
   "cell_type": "code",
   "execution_count": 10,
   "id": "06b3e8a1",
   "metadata": {},
   "outputs": [],
   "source": [
    "hands = yolo.inference(img)"
   ]
  },
  {
   "cell_type": "code",
   "execution_count": 11,
   "id": "cc559866",
   "metadata": {},
   "outputs": [
    {
     "name": "stdout",
     "output_type": "stream",
     "text": [
      "(640, 825, 0.1580791473388672, [(0, 'hand', 0.9942906498908997, 162, 624, 33, 29), (0, 'hand', 0.9839993715286255, 285, 550, 45, 43), (0, 'hand', 0.9767526984214783, 122, 689, 21, 26), (0, 'hand', 0.9699976444244385, 423, 567, 42, 38), (0, 'hand', 0.9682666063308716, 247, 599, 34, 42), (0, 'hand', 0.9031625986099243, 416, 665, 22, 32), (0, 'hand', 0.9007434844970703, 66, 682, 24, 22), (0, 'hand', 0.8708518743515015, 523, 673, 20, 31), (0, 'hand', 0.8533263802528381, 487, 661, 22, 37)])\n"
     ]
    }
   ],
   "source": [
    "print(hands)"
   ]
  },
  {
   "cell_type": "code",
   "execution_count": 12,
   "id": "bfd897a5",
   "metadata": {},
   "outputs": [
    {
     "name": "stdout",
     "output_type": "stream",
     "text": [
      "[(162, 624, 33, 29), (285, 550, 45, 43), (122, 689, 21, 26), (423, 567, 42, 38), (247, 599, 34, 42), (416, 665, 22, 32), (66, 682, 24, 22), (523, 673, 20, 31), (487, 661, 22, 37)]\n"
     ]
    }
   ],
   "source": [
    "boxes = [] # x, y, w, h\n",
    "if hands:\n",
    "    boxes = [(x[3], x[4], x[5], x[6]) for x in hands[3]]\n",
    "print(boxes)\n"
   ]
  },
  {
   "cell_type": "code",
   "execution_count": 21,
   "id": "c7eecfb1",
   "metadata": {},
   "outputs": [],
   "source": [
    "box = boxes[7]\n",
    "# cv2.imshow('image', img)\n",
    "hand = cv2.resize(img[box[1]:box[1]+box[3], box[0]:box[0]+box[2]], (500, 500))\n",
    "cv2.imshow('image', hand)\n",
    "cv2.waitKey(0)\n",
    "cv2.destroyAllWindows()"
   ]
  },
  {
   "cell_type": "code",
   "execution_count": 25,
   "id": "3979a6bd",
   "metadata": {},
   "outputs": [],
   "source": [
    "boxed_img = img.copy()\n",
    "for box in boxes:\n",
    "    cv2.rectangle(boxed_img, (box[0], box[1]), (box[0]+box[2], box[1]+box[3]), (0, 255, 0))\n",
    "cv2.imshow('image', boxed_img)\n",
    "cv2.waitKey(0)\n",
    "cv2.destroyAllWindows()"
   ]
  }
 ],
 "metadata": {
  "kernelspec": {
   "display_name": "Python 3 (ipykernel)",
   "language": "python",
   "name": "python3"
  },
  "language_info": {
   "codemirror_mode": {
    "name": "ipython",
    "version": 3
   },
   "file_extension": ".py",
   "mimetype": "text/x-python",
   "name": "python",
   "nbconvert_exporter": "python",
   "pygments_lexer": "ipython3",
   "version": "3.11.4"
  }
 },
 "nbformat": 4,
 "nbformat_minor": 5
}
