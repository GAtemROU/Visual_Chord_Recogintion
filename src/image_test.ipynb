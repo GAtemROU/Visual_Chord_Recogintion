{
 "cells": [
  {
   "cell_type": "code",
   "execution_count": 165,
   "id": "45281684",
   "metadata": {},
   "outputs": [],
   "source": [
    "from yolo.yolo import YOLO\n",
    "import cv2\n",
    "import numpy as np\n",
    "import hand_landmarks\n",
    "from importlib import reload"
   ]
  },
  {
   "cell_type": "code",
   "execution_count": 299,
   "id": "3e608e60",
   "metadata": {},
   "outputs": [],
   "source": [
    "img = cv2.imread('data/raw_images/chords/A/close.jpg')"
   ]
  },
  {
   "cell_type": "code",
   "execution_count": 300,
   "id": "e65beba0",
   "metadata": {},
   "outputs": [
    {
     "name": "stdout",
     "output_type": "stream",
     "text": [
      "(1280, 960, 3)\n"
     ]
    }
   ],
   "source": [
    "print(img.shape)\n",
    "img_small = img.copy()"
   ]
  },
  {
   "cell_type": "code",
   "execution_count": 301,
   "id": "f3ceccbc",
   "metadata": {},
   "outputs": [],
   "source": [
    "# img_small = img[640:1280]\n",
    "# img_small = img.copy()\n",
    "# # img_small = cv2.resize(img_small, (320, 320))\n",
    "# scale = 2\n",
    "# y_padding = (int(img.shape[0]/scale), int(img.shape[0]/scale))\n",
    "# x_padding = (int(img.shape[1]/scale), int(img.shape[1]/scale))\n",
    "# img_small = np.pad(img_small, (y_padding, x_padding, (0, 0)), mode='constant', constant_values=0)\n",
    "img_small = cv2.resize(img_small, (img.shape[1]//3, img.shape[0]//3))"
   ]
  },
  {
   "cell_type": "code",
   "execution_count": 302,
   "id": "66743679",
   "metadata": {},
   "outputs": [
    {
     "name": "stdout",
     "output_type": "stream",
     "text": [
      "(426, 320, 3)\n"
     ]
    }
   ],
   "source": [
    "print(img_small.shape)"
   ]
  },
  {
   "cell_type": "code",
   "execution_count": 303,
   "id": "ffb901ff",
   "metadata": {},
   "outputs": [],
   "source": [
    "cv2.imshow('test', img_small)\n",
    "cv2.waitKey(0)\n",
    "cv2.destroyAllWindows()"
   ]
  },
  {
   "cell_type": "code",
   "execution_count": 304,
   "id": "6eae8527",
   "metadata": {},
   "outputs": [],
   "source": [
    "hand_landmarks = reload(hand_landmarks)\n",
    "hands = hand_landmarks.get_hands(img_small, 10)"
   ]
  },
  {
   "cell_type": "code",
   "execution_count": 305,
   "id": "cc559866",
   "metadata": {},
   "outputs": [
    {
     "name": "stdout",
     "output_type": "stream",
     "text": [
      "[(166, 184, 277, 320)]\n"
     ]
    }
   ],
   "source": [
    "print(hands)\n",
    "boxes = hands.copy() # \n",
    "# print(hands.multi_handedness)"
   ]
  },
  {
   "cell_type": "code",
   "execution_count": 306,
   "id": "bfd897a5",
   "metadata": {},
   "outputs": [],
   "source": [
    "# boxes = [] # x, y, w, h\n",
    "# if hands:\n",
    "#     boxes = [(x[3], x[4], x[5], x[6]) for x in hands[3]]\n",
    "# print(boxes)\n"
   ]
  },
  {
   "cell_type": "code",
   "execution_count": 307,
   "id": "3979a6bd",
   "metadata": {},
   "outputs": [],
   "source": [
    "boxed_img = img_small.copy()\n",
    "for box in boxes:\n",
    "    cv2.rectangle(boxed_img, (box[0], box[1]), (box[2], box[3]), (0, 255, 0))\n",
    "cv2.imshow('image', boxed_img)\n",
    "cv2.waitKey(0)\n",
    "cv2.destroyAllWindows()"
   ]
  },
  {
   "cell_type": "code",
   "execution_count": 48,
   "id": "11520fe8",
   "metadata": {},
   "outputs": [],
   "source": [
    "if boxes:\n",
    "    box = boxes[0]\n",
    "    hand = cv2.resize(img_small[box[1]:box[3], box[0]:box[2]], (500, 500))\n",
    "    cv2.imshow('image', hand)\n",
    "    cv2.waitKey(0)\n",
    "    cv2.destroyAllWindows()"
   ]
  },
  {
   "cell_type": "code",
   "execution_count": null,
   "id": "05dbb6bd",
   "metadata": {},
   "outputs": [],
   "source": []
  }
 ],
 "metadata": {
  "kernelspec": {
   "display_name": "Python 3 (ipykernel)",
   "language": "python",
   "name": "python3"
  },
  "language_info": {
   "codemirror_mode": {
    "name": "ipython",
    "version": 3
   },
   "file_extension": ".py",
   "mimetype": "text/x-python",
   "name": "python",
   "nbconvert_exporter": "python",
   "pygments_lexer": "ipython3",
   "version": "3.11.4"
  }
 },
 "nbformat": 4,
 "nbformat_minor": 5
}
